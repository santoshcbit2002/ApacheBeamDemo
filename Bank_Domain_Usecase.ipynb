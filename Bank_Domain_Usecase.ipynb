{
  "nbformat": 4,
  "nbformat_minor": 0,
  "metadata": {
    "colab": {
      "name": "Bank_Domain_Usecase.ipynb",
      "provenance": [],
      "authorship_tag": "ABX9TyOmxwtGLZD0OaSXl8lYgQlr",
      "include_colab_link": true
    },
    "kernelspec": {
      "name": "python3",
      "display_name": "Python 3"
    }
  },
  "cells": [
    {
      "cell_type": "markdown",
      "metadata": {
        "id": "view-in-github",
        "colab_type": "text"
      },
      "source": [
        "<a href=\"https://colab.research.google.com/github/santoshcbit2002/ApacheBeamDemo/blob/master/Bank_Domain_Usecase.ipynb\" target=\"_parent\"><img src=\"https://colab.research.google.com/assets/colab-badge.svg\" alt=\"Open In Colab\"/></a>"
      ]
    },
    {
      "cell_type": "code",
      "metadata": {
        "id": "Vo66n9bu60A5",
        "colab_type": "code",
        "colab": {
          "base_uri": "https://localhost:8080/",
          "height": 1000
        },
        "outputId": "22b8b77d-f93c-4e82-e0f7-83a6efdf2a06"
      },
      "source": [
        "!pip install apache_beam"
      ],
      "execution_count": 1,
      "outputs": [
        {
          "output_type": "stream",
          "text": [
            "Collecting apache_beam\n",
            "\u001b[?25l  Downloading https://files.pythonhosted.org/packages/56/f1/7fcfbff3d3eed7895f10b358844b6e8ed21b230666aabd09d842cd725363/apache_beam-2.23.0-cp36-cp36m-manylinux2010_x86_64.whl (8.3MB)\n",
            "\u001b[K     |████████████████████████████████| 8.3MB 4.0MB/s \n",
            "\u001b[?25hRequirement already satisfied: pymongo<4.0.0,>=3.8.0 in /usr/local/lib/python3.6/dist-packages (from apache_beam) (3.11.0)\n",
            "Requirement already satisfied: typing-extensions<3.8.0,>=3.7.0 in /usr/local/lib/python3.6/dist-packages (from apache_beam) (3.7.4.3)\n",
            "Requirement already satisfied: grpcio<2,>=1.29.0 in /usr/local/lib/python3.6/dist-packages (from apache_beam) (1.31.0)\n",
            "Collecting dill<0.3.2,>=0.3.1.1\n",
            "\u001b[?25l  Downloading https://files.pythonhosted.org/packages/c7/11/345f3173809cea7f1a193bfbf02403fff250a3360e0e118a1630985e547d/dill-0.3.1.1.tar.gz (151kB)\n",
            "\u001b[K     |████████████████████████████████| 153kB 44.6MB/s \n",
            "\u001b[?25hRequirement already satisfied: protobuf<4,>=3.5.0.post1 in /usr/local/lib/python3.6/dist-packages (from apache_beam) (3.12.4)\n",
            "Collecting hdfs<3.0.0,>=2.1.0\n",
            "\u001b[?25l  Downloading https://files.pythonhosted.org/packages/82/39/2c0879b1bcfd1f6ad078eb210d09dbce21072386a3997074ee91e60ddc5a/hdfs-2.5.8.tar.gz (41kB)\n",
            "\u001b[K     |████████████████████████████████| 51kB 6.1MB/s \n",
            "\u001b[?25hRequirement already satisfied: numpy<2,>=1.14.3 in /usr/local/lib/python3.6/dist-packages (from apache_beam) (1.18.5)\n",
            "Collecting oauth2client<4,>=2.0.1\n",
            "\u001b[?25l  Downloading https://files.pythonhosted.org/packages/c0/7b/bc893e35d6ca46a72faa4b9eaac25c687ce60e1fbe978993fe2de1b0ff0d/oauth2client-3.0.0.tar.gz (77kB)\n",
            "\u001b[K     |████████████████████████████████| 81kB 9.0MB/s \n",
            "\u001b[?25hRequirement already satisfied: pydot<2,>=1.2.0 in /usr/local/lib/python3.6/dist-packages (from apache_beam) (1.3.0)\n",
            "Requirement already satisfied: pytz>=2018.3 in /usr/local/lib/python3.6/dist-packages (from apache_beam) (2018.9)\n",
            "Collecting avro-python3!=1.9.2,<1.10.0,>=1.8.1; python_version >= \"3.0\"\n",
            "  Downloading https://files.pythonhosted.org/packages/5a/80/acd1455bea0a9fcdc60a748a97dcbb3ff624726fb90987a0fc1c19e7a5a5/avro-python3-1.9.2.1.tar.gz\n",
            "Requirement already satisfied: crcmod<2.0,>=1.7 in /usr/local/lib/python3.6/dist-packages (from apache_beam) (1.7)\n",
            "Collecting fastavro<0.24,>=0.21.4\n",
            "\u001b[?25l  Downloading https://files.pythonhosted.org/packages/98/8e/1d62398df5569a805d956bd96df1b2c06f973e8d3f1f7489adf9c58b2824/fastavro-0.23.6-cp36-cp36m-manylinux2010_x86_64.whl (1.4MB)\n",
            "\u001b[K     |████████████████████████████████| 1.4MB 41.6MB/s \n",
            "\u001b[?25hCollecting future<1.0.0,>=0.18.2\n",
            "\u001b[?25l  Downloading https://files.pythonhosted.org/packages/45/0b/38b06fd9b92dc2b68d58b75f900e97884c45bedd2ff83203d933cf5851c9/future-0.18.2.tar.gz (829kB)\n",
            "\u001b[K     |████████████████████████████████| 829kB 46.7MB/s \n",
            "\u001b[?25hCollecting mock<3.0.0,>=1.0.1\n",
            "\u001b[?25l  Downloading https://files.pythonhosted.org/packages/e6/35/f187bdf23be87092bd0f1200d43d23076cee4d0dec109f195173fd3ebc79/mock-2.0.0-py2.py3-none-any.whl (56kB)\n",
            "\u001b[K     |████████████████████████████████| 61kB 6.6MB/s \n",
            "\u001b[?25hRequirement already satisfied: python-dateutil<3,>=2.8.0 in /usr/local/lib/python3.6/dist-packages (from apache_beam) (2.8.1)\n",
            "Requirement already satisfied: httplib2<0.18.0,>=0.8 in /usr/local/lib/python3.6/dist-packages (from apache_beam) (0.17.4)\n",
            "Collecting pyarrow<0.18.0,>=0.15.1; python_version >= \"3.0\" or platform_system != \"Windows\"\n",
            "\u001b[?25l  Downloading https://files.pythonhosted.org/packages/ba/3f/6cac1714fff444664603f92cb9fbe91c7ae25375880158b9e9691c4584c8/pyarrow-0.17.1-cp36-cp36m-manylinux2014_x86_64.whl (63.8MB)\n",
            "\u001b[K     |████████████████████████████████| 63.8MB 62kB/s \n",
            "\u001b[?25hRequirement already satisfied: six>=1.5.2 in /usr/local/lib/python3.6/dist-packages (from grpcio<2,>=1.29.0->apache_beam) (1.15.0)\n",
            "Requirement already satisfied: setuptools in /usr/local/lib/python3.6/dist-packages (from protobuf<4,>=3.5.0.post1->apache_beam) (49.6.0)\n",
            "Requirement already satisfied: docopt in /usr/local/lib/python3.6/dist-packages (from hdfs<3.0.0,>=2.1.0->apache_beam) (0.6.2)\n",
            "Requirement already satisfied: requests>=2.7.0 in /usr/local/lib/python3.6/dist-packages (from hdfs<3.0.0,>=2.1.0->apache_beam) (2.23.0)\n",
            "Requirement already satisfied: pyasn1>=0.1.7 in /usr/local/lib/python3.6/dist-packages (from oauth2client<4,>=2.0.1->apache_beam) (0.4.8)\n",
            "Requirement already satisfied: pyasn1-modules>=0.0.5 in /usr/local/lib/python3.6/dist-packages (from oauth2client<4,>=2.0.1->apache_beam) (0.2.8)\n",
            "Requirement already satisfied: rsa>=3.1.4 in /usr/local/lib/python3.6/dist-packages (from oauth2client<4,>=2.0.1->apache_beam) (4.6)\n",
            "Requirement already satisfied: pyparsing>=2.1.4 in /usr/local/lib/python3.6/dist-packages (from pydot<2,>=1.2.0->apache_beam) (2.4.7)\n",
            "Collecting pbr>=0.11\n",
            "\u001b[?25l  Downloading https://files.pythonhosted.org/packages/96/ba/aa953a11ec014b23df057ecdbc922fdb40ca8463466b1193f3367d2711a6/pbr-5.4.5-py2.py3-none-any.whl (110kB)\n",
            "\u001b[K     |████████████████████████████████| 112kB 49.0MB/s \n",
            "\u001b[?25hRequirement already satisfied: certifi>=2017.4.17 in /usr/local/lib/python3.6/dist-packages (from requests>=2.7.0->hdfs<3.0.0,>=2.1.0->apache_beam) (2020.6.20)\n",
            "Requirement already satisfied: idna<3,>=2.5 in /usr/local/lib/python3.6/dist-packages (from requests>=2.7.0->hdfs<3.0.0,>=2.1.0->apache_beam) (2.10)\n",
            "Requirement already satisfied: chardet<4,>=3.0.2 in /usr/local/lib/python3.6/dist-packages (from requests>=2.7.0->hdfs<3.0.0,>=2.1.0->apache_beam) (3.0.4)\n",
            "Requirement already satisfied: urllib3!=1.25.0,!=1.25.1,<1.26,>=1.21.1 in /usr/local/lib/python3.6/dist-packages (from requests>=2.7.0->hdfs<3.0.0,>=2.1.0->apache_beam) (1.24.3)\n",
            "Building wheels for collected packages: dill, hdfs, oauth2client, avro-python3, future\n",
            "  Building wheel for dill (setup.py) ... \u001b[?25l\u001b[?25hdone\n",
            "  Created wheel for dill: filename=dill-0.3.1.1-cp36-none-any.whl size=78532 sha256=8d23e36f80eb9d2e586fa366f9c27508ba5101fdb6dd064082cd0e8613bcc47a\n",
            "  Stored in directory: /root/.cache/pip/wheels/59/b1/91/f02e76c732915c4015ab4010f3015469866c1eb9b14058d8e7\n",
            "  Building wheel for hdfs (setup.py) ... \u001b[?25l\u001b[?25hdone\n",
            "  Created wheel for hdfs: filename=hdfs-2.5.8-cp36-none-any.whl size=33213 sha256=7e08eca0b4331b33612804c08ab3cc3839f3ec1bf8be785e68c723d8f73784c4\n",
            "  Stored in directory: /root/.cache/pip/wheels/fe/a7/05/23e3699975fc20f8a30e00ac1e515ab8c61168e982abe4ce70\n",
            "  Building wheel for oauth2client (setup.py) ... \u001b[?25l\u001b[?25hdone\n",
            "  Created wheel for oauth2client: filename=oauth2client-3.0.0-cp36-none-any.whl size=106382 sha256=d59870dcae2aa78f712930dce68c64eb5c13d4d7b3adf1272d0283cad056549d\n",
            "  Stored in directory: /root/.cache/pip/wheels/48/f7/87/b932f09c6335dbcf45d916937105a372ab14f353a9ca431d7d\n",
            "  Building wheel for avro-python3 (setup.py) ... \u001b[?25l\u001b[?25hdone\n",
            "  Created wheel for avro-python3: filename=avro_python3-1.9.2.1-cp36-none-any.whl size=43516 sha256=ed2804b0c7f079542cd2e98aa83187f972a903bc33ef05cf39c6054d60ab89b8\n",
            "  Stored in directory: /root/.cache/pip/wheels/5a/d3/be/86620c9dd3fca68986c33b9c616510289fc0abb81ec9aa70bd\n",
            "  Building wheel for future (setup.py) ... \u001b[?25l\u001b[?25hdone\n",
            "  Created wheel for future: filename=future-0.18.2-cp36-none-any.whl size=491057 sha256=c135ab55956e39c3fada49dd715443126fb3802d5519c35be85607dcb02e4572\n",
            "  Stored in directory: /root/.cache/pip/wheels/8b/99/a0/81daf51dcd359a9377b110a8a886b3895921802d2fc1b2397e\n",
            "Successfully built dill hdfs oauth2client avro-python3 future\n",
            "\u001b[31mERROR: pydrive 1.3.1 has requirement oauth2client>=4.0.0, but you'll have oauth2client 3.0.0 which is incompatible.\u001b[0m\n",
            "\u001b[31mERROR: multiprocess 0.70.10 has requirement dill>=0.3.2, but you'll have dill 0.3.1.1 which is incompatible.\u001b[0m\n",
            "Installing collected packages: dill, hdfs, oauth2client, avro-python3, fastavro, future, pbr, mock, pyarrow, apache-beam\n",
            "  Found existing installation: dill 0.3.2\n",
            "    Uninstalling dill-0.3.2:\n",
            "      Successfully uninstalled dill-0.3.2\n",
            "  Found existing installation: oauth2client 4.1.3\n",
            "    Uninstalling oauth2client-4.1.3:\n",
            "      Successfully uninstalled oauth2client-4.1.3\n",
            "  Found existing installation: future 0.16.0\n",
            "    Uninstalling future-0.16.0:\n",
            "      Successfully uninstalled future-0.16.0\n",
            "  Found existing installation: pyarrow 0.14.1\n",
            "    Uninstalling pyarrow-0.14.1:\n",
            "      Successfully uninstalled pyarrow-0.14.1\n",
            "Successfully installed apache-beam-2.23.0 avro-python3-1.9.2.1 dill-0.3.1.1 fastavro-0.23.6 future-0.18.2 hdfs-2.5.8 mock-2.0.0 oauth2client-3.0.0 pbr-5.4.5 pyarrow-0.17.1\n"
          ],
          "name": "stdout"
        }
      ]
    },
    {
      "cell_type": "code",
      "metadata": {
        "id": "uTDTxV_j9lYn",
        "colab_type": "code",
        "colab": {
          "base_uri": "https://localhost:8080/",
          "height": 34
        },
        "outputId": "1bffe159-6c1b-4287-ef23-11e84b057242"
      },
      "source": [
        "!mkdir data\n",
        "!ls"
      ],
      "execution_count": 2,
      "outputs": [
        {
          "output_type": "stream",
          "text": [
            "data  sample_data\n"
          ],
          "name": "stdout"
        }
      ]
    },
    {
      "cell_type": "code",
      "metadata": {
        "id": "mBzYKbWD9q3K",
        "colab_type": "code",
        "colab": {
          "resources": {
            "http://localhost:8080/nbextensions/google.colab/files.js": {
              "data": "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",
              "ok": true,
              "headers": [
                [
                  "content-type",
                  "application/javascript"
                ]
              ],
              "status": 200,
              "status_text": ""
            }
          },
          "base_uri": "https://localhost:8080/",
          "height": 72
        },
        "outputId": "f9d82c6d-f3b4-433b-b881-d34e78448dfd"
      },
      "source": [
        "from google.colab import files\n",
        "upload=files.upload()"
      ],
      "execution_count": 3,
      "outputs": [
        {
          "output_type": "display_data",
          "data": {
            "text/html": [
              "\n",
              "     <input type=\"file\" id=\"files-2f0bc9b2-42c5-42cf-b40d-9b3b2e328c8e\" name=\"files[]\" multiple disabled\n",
              "        style=\"border:none\" />\n",
              "     <output id=\"result-2f0bc9b2-42c5-42cf-b40d-9b3b2e328c8e\">\n",
              "      Upload widget is only available when the cell has been executed in the\n",
              "      current browser session. Please rerun this cell to enable.\n",
              "      </output>\n",
              "      <script src=\"/nbextensions/google.colab/files.js\"></script> "
            ],
            "text/plain": [
              "<IPython.core.display.HTML object>"
            ]
          },
          "metadata": {
            "tags": []
          }
        },
        {
          "output_type": "stream",
          "text": [
            "Saving Bank_requirements.txt to Bank_requirements.txt\n"
          ],
          "name": "stdout"
        }
      ]
    },
    {
      "cell_type": "code",
      "metadata": {
        "id": "tYcTya0MBfH8",
        "colab_type": "code",
        "colab": {
          "resources": {
            "http://localhost:8080/nbextensions/google.colab/files.js": {
              "data": "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",
              "ok": true,
              "headers": [
                [
                  "content-type",
                  "application/javascript"
                ]
              ],
              "status": 200,
              "status_text": ""
            }
          },
          "base_uri": "https://localhost:8080/",
          "height": 72
        },
        "outputId": "e10f9baf-6360-4aae-b492-7afae5f92ae4"
      },
      "source": [
        "from google.colab import files\n",
        "upload=files.upload()"
      ],
      "execution_count": 4,
      "outputs": [
        {
          "output_type": "display_data",
          "data": {
            "text/html": [
              "\n",
              "     <input type=\"file\" id=\"files-f2019ee5-c8d3-4c7c-8587-da7544cb20b7\" name=\"files[]\" multiple disabled\n",
              "        style=\"border:none\" />\n",
              "     <output id=\"result-f2019ee5-c8d3-4c7c-8587-da7544cb20b7\">\n",
              "      Upload widget is only available when the cell has been executed in the\n",
              "      current browser session. Please rerun this cell to enable.\n",
              "      </output>\n",
              "      <script src=\"/nbextensions/google.colab/files.js\"></script> "
            ],
            "text/plain": [
              "<IPython.core.display.HTML object>"
            ]
          },
          "metadata": {
            "tags": []
          }
        },
        {
          "output_type": "stream",
          "text": [
            "Saving cards.txt to cards.txt\n"
          ],
          "name": "stdout"
        }
      ]
    },
    {
      "cell_type": "code",
      "metadata": {
        "id": "fgmvDuvMBgI-",
        "colab_type": "code",
        "colab": {
          "resources": {
            "http://localhost:8080/nbextensions/google.colab/files.js": {
              "data": "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",
              "ok": true,
              "headers": [
                [
                  "content-type",
                  "application/javascript"
                ]
              ],
              "status": 200,
              "status_text": ""
            }
          },
          "base_uri": "https://localhost:8080/",
          "height": 72
        },
        "outputId": "eda468c5-5294-454b-9ba2-fb61583223ab"
      },
      "source": [
        "from google.colab import files\n",
        "upload=files.upload()"
      ],
      "execution_count": 5,
      "outputs": [
        {
          "output_type": "display_data",
          "data": {
            "text/html": [
              "\n",
              "     <input type=\"file\" id=\"files-35190b7b-47a0-4b64-8471-f3ea015f0be4\" name=\"files[]\" multiple disabled\n",
              "        style=\"border:none\" />\n",
              "     <output id=\"result-35190b7b-47a0-4b64-8471-f3ea015f0be4\">\n",
              "      Upload widget is only available when the cell has been executed in the\n",
              "      current browser session. Please rerun this cell to enable.\n",
              "      </output>\n",
              "      <script src=\"/nbextensions/google.colab/files.js\"></script> "
            ],
            "text/plain": [
              "<IPython.core.display.HTML object>"
            ]
          },
          "metadata": {
            "tags": []
          }
        },
        {
          "output_type": "stream",
          "text": [
            "Saving loan.txt to loan.txt\n"
          ],
          "name": "stdout"
        }
      ]
    },
    {
      "cell_type": "code",
      "metadata": {
        "id": "rBpW-LphByzz",
        "colab_type": "code",
        "colab": {
          "base_uri": "https://localhost:8080/",
          "height": 34
        },
        "outputId": "6491e5dd-d899-46c1-e826-5d0038ab3eeb"
      },
      "source": [
        "!ls"
      ],
      "execution_count": 6,
      "outputs": [
        {
          "output_type": "stream",
          "text": [
            "Bank_requirements.txt  cards.txt  data\tloan.txt  sample_data\n"
          ],
          "name": "stdout"
        }
      ]
    },
    {
      "cell_type": "code",
      "metadata": {
        "id": "ABXxffghB1F1",
        "colab_type": "code",
        "colab": {
          "base_uri": "https://localhost:8080/",
          "height": 71
        },
        "outputId": "36d1dc4f-091f-445e-ff2f-a79786a82302"
      },
      "source": [
        "import apache_beam as beam\n",
        "\n",
        "# for datetime manipulation\n",
        "from datetime import datetime\n",
        "\n",
        "p = beam.Pipeline()\n",
        "\n",
        "def calculate_points(element):\n",
        "\n",
        "  customer_id, first_name, last_name, realtionship_id, card_type, max_limit, spent, cash_withdrawn,payment_cleared,payment_date = element.split(',')\n",
        "  #[CT28383,Miyako,Burns,R_7488,Issuers,500,490,38,101,30-01-2018]\n",
        "  \n",
        "  spent = int(spent)    # spent = 490\n",
        "  payment_cleared = int(payment_cleared)   #payment_cleared = 101\n",
        "  max_limit = int(max_limit)               # max_limit = 500\n",
        "  \n",
        "  key_name = customer_id + ', ' + first_name + ' ' + last_name     # key_name = CT28383,Miyako Burns\n",
        "  defaulter_points = 0\n",
        "  \n",
        "  # payment_cleared is less than 70% of spent - give 1 point\n",
        "  if payment_cleared < (spent * 0.7): \n",
        "     defaulter_points += 1                                                # defaulter_points =  1 \n",
        " \n",
        "  # spend is = 100% of max limit and any amount of payment is pending\n",
        "  if (spent == max_limit) and (payment_cleared < spent): \n",
        "     defaulter_points += 1                                                # defaulter_points =  2\n",
        "   \n",
        "  if (spent == max_limit) and (payment_cleared < (spent*0.7)): \n",
        "     defaulter_points += 1                                                # defaulter_points = 3\n",
        "                                  \n",
        "  return key_name, defaulter_points                                     # {CT28383,Miyako Burns  3}\n",
        "\n",
        "def format_result(sum_pair):\n",
        "  key_name, points = sum_pair\n",
        "  return str(key_name) + ', ' + str(points) + ' fraud_points'  \n",
        "\n",
        "def calculate_late_payment(elements):               # [CT88330,Humberto,Banks,Serviceman,LN_1559,Medical Loan,26-01-2018,2000,30-01-2018]\n",
        "  \n",
        "  due_date = datetime.strptime(elements[6].rstrip().lstrip(), '%d-%m-%Y')           # due_date = 26-01-2018\n",
        "  payment_date = datetime.strptime(elements[8].rstrip().lstrip(), '%d-%m-%Y')       # payment_date = 30-01-2018\n",
        "  \n",
        "  if payment_date <= due_date:\n",
        "    elements.append('0') \n",
        "  else:\n",
        "    elements.append('1')                           # [CT88330,Humberto,Banks,Serviceman,LN_1559,Medical Loan,26-01-2018,2000,30-01-2018,1]\n",
        "    \n",
        "  return elements\n",
        "\n",
        "def format_output(sum_pair):\n",
        "  key_name, miss_months = sum_pair\n",
        "  return str(key_name) + ', ' + str(miss_months) + ' missed'\n",
        "\n",
        "def calculate_month(input_list):        #input  [CT88330,Humberto,Banks,Serviceman,LN_1559,Medical Loan,26-01-2018, 2000, 30-01-2018]\n",
        "                                       \n",
        "  # Convert payment_date to datetime and extract month of payment\n",
        "  payment_date = datetime.strptime(input_list[8].rstrip().lstrip(), '%d-%m-%Y')  # payment_date = 30-01-2018\n",
        "  input_list.append(str(payment_date.month))                                     # [CT88330,Humberto,Banks,Serviceman,LN_1559,Medical Loan,26-01-2018, 2000, 30-01-2018, 01]\n",
        "  \n",
        "  return input_list \n",
        "\n",
        "def calculate_personal_loan_defaulter(input):       #input key -> CT68554,Ronald Chiki   value --> [01,05,06,07,08,09,10,11,12]\n",
        "    max_allowed_missed_months = 4\n",
        "    max_allowed_consecutive_missing = 2\n",
        "    \n",
        "    name, months_list = input                                   # [CT68554,Ronald,Chiki,Serviceman,LN_8460,Personal Loan,25-01-2018,50000,25-01-2018]\n",
        "      \n",
        "    months_list.sort()\n",
        "    sorted_months = months_list                                 # sorted_months = [01,05,06,07,08,09,10,11,12]\n",
        "    total_payments = len(sorted_months)                         # total_payments = 10\n",
        "    \n",
        "    missed_payments = 12 - total_payments                       # missed_payments = 2\n",
        "\n",
        "    if missed_payments > max_allowed_missed_months:             # false\n",
        "       return name, missed_payments                             #  N/A\n",
        "    \n",
        "    consecutive_missed_months = 0\n",
        "\n",
        "    temp = sorted_months[0] - 1                                 # temp = 0\n",
        "    if temp > consecutive_missed_months:                        # false\n",
        "        consecutive_missed_months = temp                        #NA\n",
        "\n",
        "    temp = 12 - sorted_months[total_payments-1]                  \n",
        "    if temp > consecutive_missed_months:\n",
        "        consecutive_missed_months = temp                        # temp = 0\n",
        "\n",
        "    for i in range(1, len(sorted_months)):                      # [01,05,06,07,08,09,10,11,12]\n",
        "        temp = sorted_months[i] - sorted_months[i-1] -1         # temp = 5-1-1 = 3\n",
        "        if temp > consecutive_missed_months:\n",
        "            consecutive_missed_months = temp                    # consecutive_missed_months = 3\n",
        "    \n",
        "    if consecutive_missed_months > max_allowed_consecutive_missing:\n",
        "       return name, consecutive_missed_months                   # CT68554,Ronald Chiki   3\n",
        "    \n",
        "    return name, 0 \n",
        "\n",
        "def return_tuple(element):\n",
        "  thisTuple=element.split(',')\n",
        "  return (thisTuple[0],thisTuple[1:])    \n",
        "\n",
        "card_defaulter = (\n",
        "                  p\n",
        "                  | 'Read credit card data' >> beam.io.ReadFromText('cards.txt',skip_header_lines=1)\n",
        "                  | 'Calculate defaulter points' >> beam.Map(calculate_points)                            \n",
        "                  | 'Combine points for defaulters' >> beam.CombinePerKey(sum)                            # key--> CT28383,Miyako Burns   value --> 6 \n",
        "                  | 'Filter card defaulters' >> beam.Filter(lambda element: element[1] > 0)\n",
        "                  | 'Format output' >> beam.Map(format_result)                                            # CT28383,Miyako Burns,6 fraud_points\n",
        "                 # | 'Write credit card data' >> beam.io.WriteToText('outputs/card_skippers') \n",
        "                  | 'tuple ' >> beam.Map(return_tuple)  \n",
        "                  )\t\t\n",
        "\n",
        "medical_loan_defaulter = (\n",
        "                            p\n",
        "                            |  beam.io.ReadFromText('loan.txt',skip_header_lines=1)   # 1stRow--> CT88330,Humberto,Banks,Serviceman,LN_1559,Medical Loan,26-01-2018, 2000, 30-01-2018\n",
        "                            | 'Split Row' >> beam.Map(lambda row : row.split(','))\n",
        "                            | 'Filter medical loan' >> beam.Filter(lambda element : (element[5]).rstrip().lstrip() == 'Medical Loan')\n",
        "                            | 'Calculate late payment' >> beam.Map(calculate_late_payment)\n",
        "                            | 'Make key value pairs' >> beam.Map(lambda elements: (elements[0] + ', ' + elements[1]+' '+elements[2], int(elements[9])) ) \n",
        "                            | 'Group medical loan based on month' >> beam.CombinePerKey(sum)                       # key--> (CT88330,Humberto Banks)  value --> 7\n",
        "                            | 'Check for medical loan defaulter' >> beam.Filter(lambda element: element[1] >= 3)\n",
        "                            | 'Format medical loan output' >> beam.Map(format_output)      # CT88330,Humberto Banks,7 missed\n",
        "                         )     \n",
        "\n",
        "personal_loan_defaulter = (\n",
        "                            p\n",
        "                            | 'Read' >> beam.io.ReadFromText('loan.txt',skip_header_lines=1)   \n",
        "                            | 'Split' >> beam.Map(lambda row : row.split(','))\n",
        "                            | 'Filter personal loan' >> beam.Filter(lambda element : (element[5]).rstrip().lstrip() == 'Personal Loan')\n",
        "                            | 'Split and Append New Month Column' >> beam.Map(calculate_month)   \n",
        "                            | 'Make key value pairs loan' >> beam.Map(lambda elements: (elements[0] + ', ' + elements[1]+' '+elements[2], int(elements[9])) ) \n",
        "                            | 'Group personal loan based on month' >> beam.GroupByKey()                                  # CT68554,Ronald Chiki [01,05,06,07,08,09,10,11,12]\n",
        "                            | 'Check for personal loan defaulter' >> beam.Map(calculate_personal_loan_defaulter)          # CT68554,Ronald Chiki   3\n",
        "                            | 'Filter only personal loan defaulters' >> beam.Filter(lambda element: element[1] > 0)\n",
        "                            | 'Format personal loan output' >> beam.Map(format_output)        # CT68554,Ronald Chiki,3 missed\n",
        "                          )   \n",
        "                          \n",
        "final_loan_defaulters = (\n",
        "                          ( personal_loan_defaulter, medical_loan_defaulter )\n",
        "                          | 'Combine all defaulters' >> beam.Flatten()\n",
        "                          #| 'Write all defaulters to text file' >> beam.io.WriteToText('outputs/loan_defaulters')\n",
        "                          | 'tuple for loan' >> beam.Map(return_tuple)\n",
        "                        )  \n",
        "                        \n",
        "both_defaulters =  (\n",
        "                    {'card_defaulter': card_defaulter, 'loan_defaulter': final_loan_defaulters}\n",
        "                    | beam.CoGroupByKey()\n",
        "                    |'Write p3 results' >> beam.io.WriteToText('outputs/both')\n",
        "                   )            \n",
        "\n",
        "\t\t\t\t  \t\t  \n",
        "p.run()\t"
      ],
      "execution_count": 7,
      "outputs": [
        {
          "output_type": "stream",
          "text": [
            "WARNING:apache_beam.runners.interactive.interactive_environment:Dependencies required for Interactive Beam PCollection visualization are not available, please use: `pip install apache-beam[interactive]` to install necessary dependencies to enable all data visualization features.\n"
          ],
          "name": "stderr"
        },
        {
          "output_type": "display_data",
          "data": {
            "application/javascript": [
              "\n",
              "        if (typeof window.interactive_beam_jquery == 'undefined') {\n",
              "          var jqueryScript = document.createElement('script');\n",
              "          jqueryScript.src = 'https://code.jquery.com/jquery-3.4.1.slim.min.js';\n",
              "          jqueryScript.type = 'text/javascript';\n",
              "          jqueryScript.onload = function() {\n",
              "            var datatableScript = document.createElement('script');\n",
              "            datatableScript.src = 'https://cdn.datatables.net/1.10.20/js/jquery.dataTables.min.js';\n",
              "            datatableScript.type = 'text/javascript';\n",
              "            datatableScript.onload = function() {\n",
              "              window.interactive_beam_jquery = jQuery.noConflict(true);\n",
              "              window.interactive_beam_jquery(document).ready(function($){\n",
              "                \n",
              "              });\n",
              "            }\n",
              "            document.head.appendChild(datatableScript);\n",
              "          };\n",
              "          document.head.appendChild(jqueryScript);\n",
              "        } else {\n",
              "          window.interactive_beam_jquery(document).ready(function($){\n",
              "            \n",
              "          });\n",
              "        }"
            ]
          },
          "metadata": {
            "tags": []
          }
        },
        {
          "output_type": "display_data",
          "data": {
            "application/javascript": [
              "\n",
              "        var import_html = () => {\n",
              "          ['https://raw.githubusercontent.com/PAIR-code/facets/1.0.0/facets-dist/facets-jupyter.html'].forEach(href => {\n",
              "            var link = document.createElement('link');\n",
              "            link.rel = 'import'\n",
              "            link.href = href;\n",
              "            document.head.appendChild(link);\n",
              "          });\n",
              "        }\n",
              "        if ('import' in document.createElement('link')) {\n",
              "          import_html();\n",
              "        } else {\n",
              "          var webcomponentScript = document.createElement('script');\n",
              "          webcomponentScript.src = 'https://cdnjs.cloudflare.com/ajax/libs/webcomponentsjs/1.3.3/webcomponents-lite.js';\n",
              "          webcomponentScript.type = 'text/javascript';\n",
              "          webcomponentScript.onload = function(){\n",
              "            import_html();\n",
              "          };\n",
              "          document.head.appendChild(webcomponentScript);\n",
              "        }"
            ]
          },
          "metadata": {
            "tags": []
          }
        },
        {
          "output_type": "execute_result",
          "data": {
            "text/plain": [
              "<apache_beam.runners.portability.fn_api_runner.fn_runner.RunnerResult at 0x7fba81409e10>"
            ]
          },
          "metadata": {
            "tags": []
          },
          "execution_count": 7
        }
      ]
    },
    {
      "cell_type": "code",
      "metadata": {
        "id": "hkGCzXw-EVO_",
        "colab_type": "code",
        "colab": {
          "base_uri": "https://localhost:8080/",
          "height": 34
        },
        "outputId": "17b8acd9-46f4-4272-eb1e-6b1fb5a48e41"
      },
      "source": [
        "!ls outputs/"
      ],
      "execution_count": 9,
      "outputs": [
        {
          "output_type": "stream",
          "text": [
            "both-00000-of-00001\n"
          ],
          "name": "stdout"
        }
      ]
    },
    {
      "cell_type": "code",
      "metadata": {
        "id": "cqWKny8LEKnj",
        "colab_type": "code",
        "colab": {
          "base_uri": "https://localhost:8080/",
          "height": 1000
        },
        "outputId": "0d8de6b7-3972-498a-ee7f-257d7d707ab8"
      },
      "source": [
        "!head -n 200 outputs/both-00000-of-00001"
      ],
      "execution_count": 10,
      "outputs": [
        {
          "output_type": "stream",
          "text": [
            "('CT28383', {'card_defaulter': [[' Miyako Burns', ' 3 fraud_points']], 'loan_defaulter': []})\n",
            "('CT74474', {'card_defaulter': [[' Nanaho Brennan', ' 3 fraud_points']], 'loan_defaulter': [[' Nanaho Brennan', ' 5 missed']]})\n",
            "('CT66322', {'card_defaulter': [[' Chris Bruce', ' 1 fraud_points']], 'loan_defaulter': [[' Chris Bruce', ' 8 missed']]})\n",
            "('CT65528', {'card_defaulter': [[' Bonnie Barlow', ' 2 fraud_points']], 'loan_defaulter': []})\n",
            "('CT84463', {'card_defaulter': [[' Isaac Bowman', ' 4 fraud_points']], 'loan_defaulter': [[' Isaac Bowman', ' 3 missed']]})\n",
            "('CT12838', {'card_defaulter': [[' Isidore Albert', ' 5 fraud_points']], 'loan_defaulter': []})\n",
            "('CT96185', {'card_defaulter': [[' Danielle Bradshaw', ' 3 fraud_points']], 'loan_defaulter': []})\n",
            "('CT74827', {'card_defaulter': [[' Hanna Boyer', ' 3 fraud_points']], 'loan_defaulter': []})\n",
            "('CT98239', {'card_defaulter': [[' Sayuri Case', ' 4 fraud_points']], 'loan_defaulter': []})\n",
            "('CT57141', {'card_defaulter': [[' Kaori Brown', ' 2 fraud_points']], 'loan_defaulter': []})\n",
            "('CT85915', {'card_defaulter': [[' Dean Becker', ' 5 fraud_points']], 'loan_defaulter': []})\n",
            "('CT86894', {'card_defaulter': [[' Miwa Carter', ' 5 fraud_points']], 'loan_defaulter': []})\n",
            "('CT33583', {'card_defaulter': [[' Odette Case', ' 4 fraud_points']], 'loan_defaulter': []})\n",
            "('CT64751', {'card_defaulter': [[' Youko Bryant', ' 3 fraud_points']], 'loan_defaulter': []})\n",
            "('CT14528', {'card_defaulter': [[' Omar Acevedo', ' 6 fraud_points']], 'loan_defaulter': []})\n",
            "('CT98422', {'card_defaulter': [[' Nicole Caldwell', ' 2 fraud_points']], 'loan_defaulter': []})\n",
            "('CT66224', {'card_defaulter': [[' Ivan Blanchard', ' 2 fraud_points']], 'loan_defaulter': []})\n",
            "('CT91012', {'card_defaulter': [[' Jerry Barron', ' 4 fraud_points']], 'loan_defaulter': []})\n",
            "('CT64089', {'card_defaulter': [[' Fay Beard', ' 4 fraud_points']], 'loan_defaulter': []})\n",
            "('CT56854', {'card_defaulter': [[' Michael Cannon', ' 4 fraud_points']], 'loan_defaulter': []})\n",
            "('CT46595', {'card_defaulter': [[' Marco Byers', ' 5 fraud_points']], 'loan_defaulter': []})\n",
            "('CT47648', {'card_defaulter': [[' Kyle Butler', ' 4 fraud_points']], 'loan_defaulter': []})\n",
            "('CT79129', {'card_defaulter': [[' Kaori Campos', ' 4 fraud_points']], 'loan_defaulter': []})\n",
            "('CT13659', {'card_defaulter': [[' Omar Alston', ' 2 fraud_points']], 'loan_defaulter': []})\n",
            "('CT46586', {'card_defaulter': [[' Walter Camacho', ' 5 fraud_points']], 'loan_defaulter': []})\n",
            "('CT77821', {'card_defaulter': [[' Miwa Bird', ' 3 fraud_points']], 'loan_defaulter': []})\n",
            "('CT67931', {'card_defaulter': [[' Gustav Blake', ' 2 fraud_points']], 'loan_defaulter': []})\n",
            "('CT30215', {'card_defaulter': [[' Wilma Burt', ' 3 fraud_points']], 'loan_defaulter': []})\n",
            "('CT84042', {'card_defaulter': [[' Karen Bradley', ' 3 fraud_points']], 'loan_defaulter': []})\n",
            "('CT91859', {'card_defaulter': [[' Rene Cash', ' 5 fraud_points']], 'loan_defaulter': []})\n",
            "('CT93695', {'card_defaulter': [[' Shary Benjamin', ' 2 fraud_points']], 'loan_defaulter': []})\n",
            "('CT46763', {'card_defaulter': [[' Tony Benson', ' 5 fraud_points']], 'loan_defaulter': []})\n",
            "('CT39515', {'card_defaulter': [[' Hanna Ayers', ' 5 fraud_points']], 'loan_defaulter': []})\n",
            "('CT62963', {'card_defaulter': [[' Jose Austin', ' 3 fraud_points']], 'loan_defaulter': []})\n",
            "('CT94333', {'card_defaulter': [[' Teddy Bryan', ' 5 fraud_points']], 'loan_defaulter': []})\n",
            "('CT40462', {'card_defaulter': [[' Marco Blackwell', ' 3 fraud_points']], 'loan_defaulter': []})\n",
            "('CT61595', {'card_defaulter': [[' Alex Byrd', ' 5 fraud_points']], 'loan_defaulter': []})\n",
            "('CT54568', {'card_defaulter': [[' Dennis Browning', ' 6 fraud_points']], 'loan_defaulter': []})\n",
            "('CT99434', {'card_defaulter': [[' Wilma Cabrera', ' 1 fraud_points']], 'loan_defaulter': []})\n",
            "('CT24995', {'card_defaulter': [[' Hitomi Ballard', ' 8 fraud_points']], 'loan_defaulter': []})\n",
            "('CT86816', {'card_defaulter': [[' Miyuki Bowman', ' 4 fraud_points']], 'loan_defaulter': []})\n",
            "('CT44150', {'card_defaulter': [[' Claudette Bates', ' 3 fraud_points']], 'loan_defaulter': []})\n",
            "('CT43467', {'card_defaulter': [[' Miyuki Burt', ' 3 fraud_points']], 'loan_defaulter': []})\n",
            "('CT94157', {'card_defaulter': [[' Tanya Browning', ' 7 fraud_points']], 'loan_defaulter': []})\n",
            "('CT61168', {'card_defaulter': [[' Lisa Barrera', ' 2 fraud_points']], 'loan_defaulter': []})\n",
            "('CT80175', {'card_defaulter': [[' Wilfred Bryant', ' 5 fraud_points']], 'loan_defaulter': []})\n",
            "('CT23359', {'card_defaulter': [[' Olga Anderson', ' 2 fraud_points']], 'loan_defaulter': []})\n",
            "('CT23920', {'card_defaulter': [[' Gordon Bun', ' 5 fraud_points']], 'loan_defaulter': []})\n",
            "('CT32066', {'card_defaulter': [[' Naoko Buckley', ' 3 fraud_points']], 'loan_defaulter': []})\n",
            "('CT49686', {'card_defaulter': [[' Shary Beard', ' 3 fraud_points']], 'loan_defaulter': []})\n",
            "('CT81674', {'card_defaulter': [[' Nanaho Beach', ' 5 fraud_points']], 'loan_defaulter': []})\n",
            "('CT63377', {'card_defaulter': [[' Rie Brooks', ' 5 fraud_points']], 'loan_defaulter': []})\n",
            "('CT80024', {'card_defaulter': [[' Yumi Berger', ' 5 fraud_points']], 'loan_defaulter': []})\n",
            "('CT72698', {'card_defaulter': [[' Miwa Bolton', ' 2 fraud_points']], 'loan_defaulter': []})\n",
            "('CT60461', {'card_defaulter': [[' Philippe Baxter', ' 6 fraud_points']], 'loan_defaulter': []})\n",
            "('CT88926', {'card_defaulter': [[' Wanda Blackburn', ' 6 fraud_points']], 'loan_defaulter': []})\n",
            "('CT93139', {'card_defaulter': [[' Aki Browning', ' 2 fraud_points']], 'loan_defaulter': []})\n",
            "('CT86942', {'card_defaulter': [[' Joyce Ballard', ' 4 fraud_points']], 'loan_defaulter': []})\n",
            "('CT55138', {'card_defaulter': [[' Allison Bailey', ' 5 fraud_points']], 'loan_defaulter': []})\n",
            "('CT60029', {'card_defaulter': [[' Erin Boyd', ' 4 fraud_points']], 'loan_defaulter': []})\n",
            "('CT97870', {'card_defaulter': [[' Dennis Avila', ' 4 fraud_points']], 'loan_defaulter': []})\n",
            "('CT46475', {'card_defaulter': [[' Beryl Cash', ' 4 fraud_points']], 'loan_defaulter': []})\n",
            "('CT86838', {'card_defaulter': [[' Bill Barnes', ' 4 fraud_points']], 'loan_defaulter': []})\n",
            "('CT55987', {'card_defaulter': [[' Kumiko Boyer', ' 4 fraud_points']], 'loan_defaulter': []})\n",
            "('CT45112', {'card_defaulter': [[' Pablo Caldwell', ' 2 fraud_points']], 'loan_defaulter': []})\n",
            "('CT42977', {'card_defaulter': [[' Lorenzo Blackburn', ' 4 fraud_points']], 'loan_defaulter': []})\n",
            "('CT23479', {'card_defaulter': [[' Teresa Baxter', ' 3 fraud_points']], 'loan_defaulter': []})\n",
            "('CT23272', {'card_defaulter': [[' Gabielle Aguirre', ' 5 fraud_points']], 'loan_defaulter': []})\n",
            "('CT12418', {'card_defaulter': [[' Emily Adkins', ' 3 fraud_points']], 'loan_defaulter': []})\n",
            "('CT26974', {'card_defaulter': [[' Toshie Boyle', ' 4 fraud_points']], 'loan_defaulter': []})\n",
            "('CT13838', {'card_defaulter': [[' Teresa Bun', ' 4 fraud_points']], 'loan_defaulter': []})\n",
            "('CT45863', {'card_defaulter': [[' Miwa Burnett', ' 1 fraud_points']], 'loan_defaulter': []})\n",
            "('CT69662', {'card_defaulter': [[' Dennis Bender', ' 2 fraud_points']], 'loan_defaulter': []})\n",
            "('CT75395', {'card_defaulter': [[' Joyce Beach', ' 5 fraud_points']], 'loan_defaulter': []})\n",
            "('CT57159', {'card_defaulter': [[' Barry Andrews', ' 4 fraud_points']], 'loan_defaulter': []})\n",
            "('CT47266', {'card_defaulter': [[' Alex Allison', ' 3 fraud_points']], 'loan_defaulter': []})\n",
            "('CT90825', {'card_defaulter': [[' Rebekah Burgess', ' 4 fraud_points']], 'loan_defaulter': []})\n",
            "('CT68292', {'card_defaulter': [[' Lee Ashley', ' 2 fraud_points']], 'loan_defaulter': []})\n",
            "('CT22776', {'card_defaulter': [[' Gaston Anthony', ' 5 fraud_points']], 'loan_defaulter': []})\n",
            "('CT26994', {'card_defaulter': [[' Van Alexander', ' 2 fraud_points']], 'loan_defaulter': []})\n",
            "('CT44064', {'card_defaulter': [[' Nadine Adams', ' 6 fraud_points']], 'loan_defaulter': []})\n",
            "('CT68584', {'card_defaulter': [[' Lee Bowen', ' 4 fraud_points']], 'loan_defaulter': []})\n",
            "('CT80366', {'card_defaulter': [[' Irene Alvarado', ' 3 fraud_points']], 'loan_defaulter': []})\n",
            "('CT64877', {'card_defaulter': [[' Wilma Brewer', ' 3 fraud_points']], 'loan_defaulter': []})\n",
            "('CT84926', {'card_defaulter': [[' Danielle Blake', ' 3 fraud_points']], 'loan_defaulter': []})\n",
            "('CT18829', {'card_defaulter': [[' Chris Adams', ' 3 fraud_points']], 'loan_defaulter': []})\n",
            "('CT88369', {'card_defaulter': [[' Helene Bell', ' 4 fraud_points']], 'loan_defaulter': []})\n",
            "('CT19235', {'card_defaulter': [[' Tony Burke', ' 4 fraud_points']], 'loan_defaulter': []})\n",
            "('CT48625', {'card_defaulter': [[' Lisa Ashley', ' 5 fraud_points']], 'loan_defaulter': []})\n",
            "('CT54039', {'card_defaulter': [[' Lee Bishop', ' 5 fraud_points']], 'loan_defaulter': []})\n",
            "('CT89967', {'card_defaulter': [[' Shary Bentley', ' 4 fraud_points']], 'loan_defaulter': []})\n",
            "('CT92219', {'card_defaulter': [[' Sachiko Byrd', ' 4 fraud_points']], 'loan_defaulter': []})\n",
            "('CT57193', {'card_defaulter': [[' Arthur Carter', ' 4 fraud_points']], 'loan_defaulter': []})\n",
            "('CT94260', {'card_defaulter': [[' Akane Calderon', ' 7 fraud_points']], 'loan_defaulter': []})\n",
            "('CT19649', {'card_defaulter': [[' Nadine Barr', ' 5 fraud_points']], 'loan_defaulter': []})\n",
            "('CT73212', {'card_defaulter': [[' Patty Adams', ' 4 fraud_points']], 'loan_defaulter': []})\n",
            "('CT52181', {'card_defaulter': [[' Emily Berry', ' 4 fraud_points']], 'loan_defaulter': []})\n",
            "('CT18971', {'card_defaulter': [[' Tammy Beck', ' 5 fraud_points']], 'loan_defaulter': []})\n",
            "('CT30645', {'card_defaulter': [[' William Arnold', ' 3 fraud_points']], 'loan_defaulter': []})\n",
            "('CT56114', {'card_defaulter': [[' Mindy Atkins', ' 4 fraud_points']], 'loan_defaulter': []})\n",
            "('CT93070', {'card_defaulter': [[' Isabel Bell', ' 3 fraud_points']], 'loan_defaulter': []})\n",
            "('CT80190', {'card_defaulter': [[' Tony Alston', ' 5 fraud_points']], 'loan_defaulter': []})\n",
            "('CT20832', {'card_defaulter': [[' Lee Albert', ' 4 fraud_points']], 'loan_defaulter': []})\n",
            "('CT32828', {'card_defaulter': [[' Nicole Blackburn', ' 5 fraud_points']], 'loan_defaulter': []})\n",
            "('CT57894', {'card_defaulter': [[' Sebastien Case', ' 5 fraud_points']], 'loan_defaulter': []})\n",
            "('CT68892', {'card_defaulter': [[' Nana Benton', ' 5 fraud_points']], 'loan_defaulter': []})\n",
            "('CT60688', {'card_defaulter': [[' Paula Burris', ' 3 fraud_points']], 'loan_defaulter': []})\n",
            "('CT85767', {'card_defaulter': [[' Mindy Blankenship', ' 6 fraud_points']], 'loan_defaulter': []})\n",
            "('CT26076', {'card_defaulter': [[' Cristobal Buchanan', ' 4 fraud_points']], 'loan_defaulter': []})\n",
            "('CT59063', {'card_defaulter': [[' Frances Bailey', ' 6 fraud_points']], 'loan_defaulter': []})\n",
            "('CT29072', {'card_defaulter': [[' Chiaki Booker', ' 6 fraud_points']], 'loan_defaulter': []})\n",
            "('CT96895', {'card_defaulter': [[' Sebastien Black', ' 3 fraud_points']], 'loan_defaulter': []})\n",
            "('CT44457', {'card_defaulter': [[' Peter Bender', ' 2 fraud_points']], 'loan_defaulter': []})\n",
            "('CT66815', {'card_defaulter': [[' Beryl Battle', ' 3 fraud_points']], 'loan_defaulter': []})\n",
            "('CT63213', {'card_defaulter': [[' Rose Brown', ' 4 fraud_points']], 'loan_defaulter': []})\n",
            "('CT71141', {'card_defaulter': [[' Dennis Cabrera', ' 3 fraud_points']], 'loan_defaulter': []})\n",
            "('CT24578', {'card_defaulter': [[' Sayuri Carson', ' 5 fraud_points']], 'loan_defaulter': []})\n",
            "('CT95258', {'card_defaulter': [[' Oscar Campos', ' 5 fraud_points']], 'loan_defaulter': []})\n",
            "('CT43856', {'card_defaulter': [[' Gert Becker', ' 3 fraud_points']], 'loan_defaulter': []})\n",
            "('CT95788', {'card_defaulter': [[' Noel Callahan', ' 3 fraud_points']], 'loan_defaulter': []})\n",
            "('CT21675', {'card_defaulter': [[' Paloma Bryant', ' 7 fraud_points']], 'loan_defaulter': []})\n",
            "('CT57731', {'card_defaulter': [[' Erika Boyle', ' 4 fraud_points']], 'loan_defaulter': []})\n",
            "('CT70291', {'card_defaulter': [[' Shary Brooks', ' 2 fraud_points']], 'loan_defaulter': []})\n",
            "('CT50733', {'card_defaulter': [[' Miyuki Bernard', ' 6 fraud_points']], 'loan_defaulter': []})\n",
            "('CT27499', {'card_defaulter': [[' Vicky Byers', ' 2 fraud_points']], 'loan_defaulter': []})\n",
            "('CT43247', {'card_defaulter': [[' Allison Carver', ' 3 fraud_points']], 'loan_defaulter': []})\n",
            "('CT38073', {'card_defaulter': [[' Katrina Bailey', ' 5 fraud_points']], 'loan_defaulter': []})\n",
            "('CT55625', {'card_defaulter': [[' Paloma Buchanan', ' 3 fraud_points']], 'loan_defaulter': []})\n",
            "('CT95280', {'card_defaulter': [[' Claudette Ayala', ' 1 fraud_points']], 'loan_defaulter': []})\n",
            "('CT39983', {'card_defaulter': [[' Bertha Alvarado', ' 2 fraud_points']], 'loan_defaulter': []})\n",
            "('CT35159', {'card_defaulter': [[' Katrina Bruce', ' 2 fraud_points']], 'loan_defaulter': []})\n",
            "('CT97013', {'card_defaulter': [[' Ivan Buckner', ' 4 fraud_points']], 'loan_defaulter': []})\n",
            "('CT80061', {'card_defaulter': [[' Gabielle Blankenship', ' 2 fraud_points']], 'loan_defaulter': []})\n",
            "('CT13491', {'card_defaulter': [[' Kyle Burks', ' 4 fraud_points']], 'loan_defaulter': []})\n",
            "('CT24282', {'card_defaulter': [[' Junko Baker', ' 4 fraud_points']], 'loan_defaulter': []})\n",
            "('CT28996', {'card_defaulter': [[' Rie Carter', ' 3 fraud_points']], 'loan_defaulter': []})\n",
            "('CT30121', {'card_defaulter': [[' Ana Bowers', ' 2 fraud_points']], 'loan_defaulter': []})\n",
            "('CT88866', {'card_defaulter': [[' Edouard Barr', ' 5 fraud_points']], 'loan_defaulter': []})\n",
            "('CT49971', {'card_defaulter': [[' Cindy Case', ' 5 fraud_points']], 'loan_defaulter': []})\n",
            "('CT96345', {'card_defaulter': [[' Hermine Bond', ' 5 fraud_points']], 'loan_defaulter': []})\n",
            "('CT97893', {'card_defaulter': [[' Dean Arnold', ' 6 fraud_points']], 'loan_defaulter': []})\n",
            "('CT96252', {'card_defaulter': [[' Nate Burch', ' 7 fraud_points']], 'loan_defaulter': []})\n",
            "('CT59061', {'card_defaulter': [[' Omar Brewer', ' 2 fraud_points']], 'loan_defaulter': []})\n",
            "('CT43027', {'card_defaulter': [[' Lili Byers', ' 3 fraud_points']], 'loan_defaulter': []})\n",
            "('CT27330', {'card_defaulter': [[' Dean Bass', ' 4 fraud_points']], 'loan_defaulter': []})\n",
            "('CT52990', {'card_defaulter': [[' Iris Bowman', ' 3 fraud_points']], 'loan_defaulter': []})\n",
            "('CT36070', {'card_defaulter': [[' Otto Bowman', ' 3 fraud_points']], 'loan_defaulter': []})\n",
            "('CT80895', {'card_defaulter': [[' Omar Bird', ' 2 fraud_points']], 'loan_defaulter': []})\n",
            "('CT60329', {'card_defaulter': [[' Toshie Bass', ' 4 fraud_points']], 'loan_defaulter': []})\n",
            "('CT84228', {'card_defaulter': [[' Fay Carrillo', ' 5 fraud_points']], 'loan_defaulter': []})\n",
            "('CT30451', {'card_defaulter': [[' Nadine Allen', ' 1 fraud_points']], 'loan_defaulter': []})\n",
            "('CT94485', {'card_defaulter': [[' Karen Allen', ' 5 fraud_points']], 'loan_defaulter': []})\n",
            "('CT94340', {'card_defaulter': [[' Danielle Armstrong', ' 7 fraud_points']], 'loan_defaulter': []})\n",
            "('CT73332', {'card_defaulter': [[' Rene Abbott', ' 4 fraud_points']], 'loan_defaulter': []})\n",
            "('CT65148', {'card_defaulter': [[' Wendy Berry', ' 5 fraud_points']], 'loan_defaulter': []})\n",
            "('CT83649', {'card_defaulter': [[' Maria Bright', ' 4 fraud_points']], 'loan_defaulter': []})\n",
            "('CT31762', {'card_defaulter': [[' Arlene Campos', ' 3 fraud_points']], 'loan_defaulter': []})\n",
            "('CT77345', {'card_defaulter': [[' Alberto Avery', ' 4 fraud_points']], 'loan_defaulter': []})\n",
            "('CT78665', {'card_defaulter': [[' Ana Barron', ' 5 fraud_points']], 'loan_defaulter': []})\n",
            "('CT69061', {'card_defaulter': [[' Rene Carpenter', ' 2 fraud_points']], 'loan_defaulter': []})\n",
            "('CT58295', {'card_defaulter': [[' Arlene Ballard', ' 2 fraud_points']], 'loan_defaulter': []})\n",
            "('CT65022', {'card_defaulter': [[' Rafael Cabrera', ' 4 fraud_points']], 'loan_defaulter': []})\n",
            "('CT36927', {'card_defaulter': [[' Tomas Alford', ' 2 fraud_points']], 'loan_defaulter': []})\n",
            "('CT75999', {'card_defaulter': [[' Edouard Cannon', ' 6 fraud_points']], 'loan_defaulter': []})\n",
            "('CT87485', {'card_defaulter': [[' Van Bridges', ' 4 fraud_points']], 'loan_defaulter': []})\n",
            "('CT39897', {'card_defaulter': [[' Chantal Barlow', ' 7 fraud_points']], 'loan_defaulter': []})\n",
            "('CT94438', {'card_defaulter': [[' Virginie Blake', ' 3 fraud_points']], 'loan_defaulter': []})\n",
            "('CT93744', {'card_defaulter': [[' Sally Battle', ' 4 fraud_points']], 'loan_defaulter': []})\n",
            "('CT70453', {'card_defaulter': [[' Josephine Cantu', ' 1 fraud_points']], 'loan_defaulter': []})\n",
            "('CT10382', {'card_defaulter': [[' Ana Blair', ' 2 fraud_points']], 'loan_defaulter': []})\n",
            "('CT16646', {'card_defaulter': [[' Joyce Avila', ' 4 fraud_points']], 'loan_defaulter': []})\n",
            "('CT13850', {'card_defaulter': [[' Nicole Bradshaw', ' 3 fraud_points']], 'loan_defaulter': []})\n",
            "('CT84663', {'card_defaulter': [[' Michael Beti', ' 5 fraud_points']], 'loan_defaulter': []})\n",
            "('CT40751', {'card_defaulter': [[' Rene Boyd', ' 5 fraud_points']], 'loan_defaulter': []})\n",
            "('CT35038', {'card_defaulter': [[' Omar Butler', ' 4 fraud_points']], 'loan_defaulter': []})\n",
            "('CT80860', {'card_defaulter': [[' Oscar Carey', ' 5 fraud_points']], 'loan_defaulter': []})\n",
            "('CT79478', {'card_defaulter': [[' Patty Bauer', ' 4 fraud_points']], 'loan_defaulter': []})\n",
            "('CT33183', {'card_defaulter': [[' Michiyo Cain', ' 3 fraud_points']], 'loan_defaulter': []})\n",
            "('CT32465', {'card_defaulter': [[' Huto Bailey', ' 3 fraud_points']], 'loan_defaulter': []})\n",
            "('CT52820', {'card_defaulter': [[' Maria Bailey', ' 4 fraud_points']], 'loan_defaulter': []})\n",
            "('CT75042', {'card_defaulter': [[' Tomas Avery', ' 7 fraud_points']], 'loan_defaulter': []})\n",
            "('CT57192', {'card_defaulter': [[' Paula Barber', ' 3 fraud_points']], 'loan_defaulter': []})\n",
            "('CT36491', {'card_defaulter': [[' Emi Baker', ' 4 fraud_points']], 'loan_defaulter': []})\n",
            "('CT97591', {'card_defaulter': [[' Alberto Acosta', ' 1 fraud_points']], 'loan_defaulter': []})\n",
            "('CT76366', {'card_defaulter': [[' Rebekah Bishop', ' 3 fraud_points']], 'loan_defaulter': []})\n",
            "('CT60412', {'card_defaulter': [[' Fay Barlow', ' 3 fraud_points']], 'loan_defaulter': []})\n",
            "('CT93310', {'card_defaulter': [[' Bret Black', ' 4 fraud_points']], 'loan_defaulter': []})\n",
            "('CT83820', {'card_defaulter': [[' Henri Cantu', ' 6 fraud_points']], 'loan_defaulter': [[' Henri Cantu', ' 10 missed']]})\n",
            "('CT34378', {'card_defaulter': [[' Nana Castaneda', ' 5 fraud_points']], 'loan_defaulter': []})\n",
            "('CT36037', {'card_defaulter': [[' Walter Aguirre', ' 5 fraud_points']], 'loan_defaulter': []})\n",
            "('CT15097', {'card_defaulter': [[' Hitomi Bond', ' 5 fraud_points']], 'loan_defaulter': []})\n",
            "('CT10464', {'card_defaulter': [[' Naoko Bray', ' 2 fraud_points']], 'loan_defaulter': []})\n",
            "('CT11540', {'card_defaulter': [[' Tomas Castaneda', ' 5 fraud_points']], 'loan_defaulter': []})\n",
            "('CT94582', {'card_defaulter': [[' Rie Callahan', ' 4 fraud_points']], 'loan_defaulter': []})\n",
            "('CT19077', {'card_defaulter': [[' Arthur Browning', ' 3 fraud_points']], 'loan_defaulter': []})\n",
            "('CT66418', {'card_defaulter': [[' Shary Benton', ' 4 fraud_points']], 'loan_defaulter': []})\n",
            "('CT19839', {'card_defaulter': [[' Rita Bean', ' 4 fraud_points']], 'loan_defaulter': []})\n",
            "('CT71698', {'card_defaulter': [[' Karl Ball', ' 5 fraud_points']], 'loan_defaulter': []})\n",
            "('CT11310', {'card_defaulter': [[' Leslie Booth', ' 5 fraud_points']], 'loan_defaulter': []})\n",
            "('CT48111', {'card_defaulter': [[' Omar Allison', ' 5 fraud_points']], 'loan_defaulter': []})\n"
          ],
          "name": "stdout"
        }
      ]
    },
    {
      "cell_type": "code",
      "metadata": {
        "id": "n5pRPMg0EUAj",
        "colab_type": "code",
        "colab": {}
      },
      "source": [
        ""
      ],
      "execution_count": null,
      "outputs": []
    }
  ]
}